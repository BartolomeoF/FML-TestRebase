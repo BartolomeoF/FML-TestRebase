{
 "cells": [
  {
   "cell_type": "code",
   "execution_count": 206,
   "metadata": {},
   "outputs": [],
   "source": [
    "import numpy as np\n",
    "import matplotlib.pyplot as plt"
   ]
  },
  {
   "cell_type": "code",
   "execution_count": 207,
   "metadata": {},
   "outputs": [],
   "source": [
    "import numpy as np\n",
    "import matplotlib.pyplot as plt\n",
    "import sympy as sym\n",
    "import HiCOLA.Frontend.numerical_solver as ns\n",
    "import HiCOLA.Frontend.expression_builder as eb\n",
    "import os\n",
    "import time\n",
    "import itertools as it\n",
    "from multiprocessing import Pool\n",
    "from HiCOLA.Frontend.read_parameters import read_in_scan_parameters, read_in_scan_settings\n",
    "from argparse import ArgumentParser\n",
    "from configobj import ConfigObj\n",
    "from pathlib import Path\n",
    "import shutil\n"
   ]
  },
  {
   "cell_type": "code",
   "execution_count": 208,
   "metadata": {},
   "outputs": [],
   "source": [
    "# Initialisation\n",
    "##############\n",
    "symbol_decl = eb.declare_symbols()\n",
    "exec(symbol_decl)\n",
    "odeint_parameter_symbols = [E, phiprime, omegar, omegam]\n",
    "######################\n"
   ]
  },
  {
   "cell_type": "code",
   "execution_count": 209,
   "metadata": {},
   "outputs": [
    {
     "data": {
      "text/plain": [
       "'a, E, Eprime, phi, phiprime, phiprimeprime, X,  M_pG4, M_KG4, M_G3s, M_sG4, M_G3G4, M_Ks, M_gp, omegar, omegam, omegal, f_phi, Theta, threshold, threshold_sign = sym.symbols(\"a E Eprime phi phiprime phiprimeprime X M_{pG4} M_{KG4} M_{G3s} M_{sG4} M_{G3G4} M_{Ks} M_{gp} Omega_r Omega_m Omega_l f_phi Theta threshold threshold_sign\")'"
      ]
     },
     "execution_count": 209,
     "metadata": {},
     "output_type": "execute_result"
    }
   ],
   "source": [
    "symbol_decl"
   ]
  },
  {
   "cell_type": "code",
   "execution_count": 210,
   "metadata": {},
   "outputs": [],
   "source": [
    "# Read imput parameters from files\n",
    "# parser = ArgumentParser(prog='Scanner')\n",
    "# parser.add_argument('input_ini_filenames',nargs=2)\n",
    "\n",
    "# args = parser.parse_args()\n",
    "# filenames = args.input_ini_filenames\n",
    "scan_settings_path = '/Users/bartolomeo/GitHub/Hi-COLA_scanner/HiCOLA/Utilities/Scanner/scan_settings.ini'\n",
    "scan_values_path = '/Users/bartolomeo/GitHub/Hi-COLA_scanner/HiCOLA/Utilities/Scanner/scan_parameters.ini'\n",
    "\n",
    "\n",
    "scan_ini_path = Path(scan_settings_path).resolve()\n",
    "scan_param_path = Path(scan_values_path).resolve()\n",
    "\n",
    "scan_settings_dict = read_in_scan_settings(scan_settings_path)\n",
    "scan_settings_dict.update({'odeint_parameter_symbols':odeint_parameter_symbols})\n",
    "\n",
    "N_proc = scan_settings_dict['processor_number']\n",
    "\n",
    "read_scan_values_from_file = scan_settings_dict['scan_values_from_file']"
   ]
  },
  {
   "cell_type": "code",
   "execution_count": 211,
   "metadata": {},
   "outputs": [
    {
     "name": "stdout",
     "output_type": "stream",
     "text": [
      "['-0.11442716734931437', '-0.11442716734931437', '1']\n",
      "['-0.29293354841424546', '-0.29293354841424546', '1']\n",
      "['-1.9452618449383468', '-1.9452618449383468', '1']\n",
      "['1.0405243750964335', '1.0405243750964335', '1']\n"
     ]
    }
   ],
   "source": [
    "\n",
    "scan_values_dict = read_in_scan_parameters(scan_values_path)\n",
    "[U0_array, phi0_array, phiprime0_array] = scan_values_dict['initial_condition_arrays']\n",
    "[Omega_r0_array, Omega_m0_array, Omega_l0_array] = scan_values_dict['cosmological_parameter_arrays']\n",
    "parameter_arrays = scan_values_dict['Horndeski_parameter_arrays']\n",
    "number_of_horndeski_parameters = len(parameter_arrays)"
   ]
  },
  {
   "cell_type": "code",
   "execution_count": 212,
   "metadata": {},
   "outputs": [
    {
     "data": {
      "text/plain": [
       "[array([-0.11442717]),\n",
       " array([-0.29293355]),\n",
       " array([-1.94526184]),\n",
       " array([1.04052438])]"
      ]
     },
     "execution_count": 212,
     "metadata": {},
     "output_type": "execute_result"
    }
   ],
   "source": [
    "parameter_arrays"
   ]
  },
  {
   "cell_type": "code",
   "execution_count": 213,
   "metadata": {},
   "outputs": [],
   "source": [
    "\n",
    "\n",
    "proto_scan_list = it.product(U0_array, phi0_array, phiprime0_array, Omega_r0_array,Omega_m0_array,Omega_l0_array,*parameter_arrays)\n",
    "scan_list = []\n",
    "for i in list(proto_scan_list):\n",
    "    Hubble0, phi0, phiprime0, Omegar0, Omegam0, Omegal0 = i[:6]\n",
    "    horndeski_parameters = i[6:]\n",
    "    j = [Hubble0, phi0, phiprime0, Omegar0, Omegam0, Omegal0, horndeski_parameters, scan_settings_dict]\n",
    "    scan_list.append(j)\n",
    "\n",
    "\n",
    "model = scan_settings_dict['model_name']\n"
   ]
  },
  {
   "cell_type": "code",
   "execution_count": 311,
   "metadata": {},
   "outputs": [],
   "source": [
    "f_phi = 1\n",
    "Om = 0.3\n",
    "Ol = (1-Om)*(1-f_phi)"
   ]
  },
  {
   "cell_type": "code",
   "execution_count": 340,
   "metadata": {},
   "outputs": [],
   "source": [
    "# Hubble0, phi0, phi_prime0, Omega_r0, Omega_m0,Omega_l0, parameters, settings_dict = scan_list[0]\n",
    "Hubble0, phi0, phi_prime0, Omega_r0, Omega_m0,Omega_l0, parameters, settings_dict = (\n",
    "70,     10,      1,          0,          Om,    Ol,      [1,   0.3 ],  scan_settings_dict)"
   ]
  },
  {
   "cell_type": "code",
   "execution_count": 341,
   "metadata": {},
   "outputs": [
    {
     "data": {
      "image/png": "[encoded data removed]",
      "text/latex": [
       "$\\displaystyle 3 g_{41}$"
      ],
      "text/plain": [
       "3⋅g₄₁"
      ]
     },
     "execution_count": 341,
     "metadata": {},
     "output_type": "execute_result"
    }
   ],
   "source": [
    "G3"
   ]
  },
  {
   "cell_type": "code",
   "execution_count": 342,
   "metadata": {},
   "outputs": [],
   "source": [
    "# Hubble0, phi0, phi_prime0, Omega_r0, Omega_m0,Omega_l0, parameters, settings_dict = scan_list[0]\n",
    "\n",
    "read_out_dict = scan_settings_dict.copy()\n",
    "\n",
    "K = scan_settings_dict['K']\n",
    "G3 = scan_settings_dict['G3']\n",
    "G4 = scan_settings_dict['G4']\n",
    "mass_ratio_list = scan_settings_dict['mass_ratio_list']\n",
    "symbol_list = scan_settings_dict['symbol_list']\n",
    "\n",
    "lambdified_functions = eb.create_Horndeski(K,G3,G4,symbol_list,mass_ratio_list)\n",
    "E_prime_E_lambda = lambdified_functions['E_prime_E_lambda']\n",
    "B2_lambda = lambdified_functions['B2_lambda']\n",
    "\n",
    "read_out_dict.update(lambdified_functions)\n",
    "\n",
    "\n",
    "\n",
    "cosmological_parameters = [Omega_r0, Omega_m0, Omega_l0]\n",
    "initial_conditions = [Hubble0, phi0, phi_prime0]\n",
    "repack_dict = {'cosmological_parameters':cosmological_parameters, 'initial_conditions':initial_conditions, 'Horndeski_parameters':parameters}\n",
    "read_out_dict.update(repack_dict)\n",
    "\n",
    "\n",
    "\n",
    "\n",
    "background_quantities = ns.run_solver(read_out_dict)"
   ]
  },
  {
   "cell_type": "code",
   "execution_count": 343,
   "metadata": {},
   "outputs": [
    {
     "data": {
      "text/plain": [
       "dict_keys(['a', 'Hubble', 'Hubble_prime', 'E_prime_E', 'scalar', 'scalar_prime', 'scalar_primeprime', 'omega_m', 'omega_r', 'omega_l', 'omega_phi', 'omega_DE', 'omega_m_prime', 'omega_r_prime', 'omega_l_prime', 'A', 'calB', 'calC', 'coupling_factor', 'chi_over_delta', 'closure_value', 'closure_declaration', 'closure_full'])"
      ]
     },
     "execution_count": 343,
     "metadata": {},
     "output_type": "execute_result"
    }
   ],
   "source": [
    "background_quantities.keys()"
   ]
  },
  {
   "cell_type": "code",
   "execution_count": 344,
   "metadata": {},
   "outputs": [
    {
     "data": {
      "image/png": "[encoded data removed]",
      "text/plain": [
       "<Figure size 640x480 with 1 Axes>"
      ]
     },
     "metadata": {},
     "output_type": "display_data"
    }
   ],
   "source": [
    "plt.plot(background_quantities['a'],background_quantities['E_prime_E'])\n",
    "plt.xscale('log')"
   ]
  },
  {
   "cell_type": "code",
   "execution_count": 345,
   "metadata": {},
   "outputs": [
    {
     "data": {
      "text/plain": [
       "<matplotlib.legend.Legend at 0x7f7c45af1130>"
      ]
     },
     "execution_count": 345,
     "metadata": {},
     "output_type": "execute_result"
    },
    {
     "data": {
      "image/png": "[encoded data removed]",
      "text/plain": [
       "<Figure size 640x480 with 1 Axes>"
      ]
     },
     "metadata": {},
     "output_type": "display_data"
    }
   ],
   "source": [
    "plt.plot(background_quantities['a'],(background_quantities['omega_phi']), label='omega_phi')\n",
    "plt.plot(background_quantities['a'],background_quantities['omega_l'], label='omega_l')\n",
    "plt.plot(background_quantities['a'],background_quantities['omega_m'], label='omega_m')\n",
    "plt.xscale('log')\n",
    "plt.yscale('log')\n",
    "plt.xlabel('$a$')\n",
    "# plt.ylabel('')\n",
    "plt.legend()"
   ]
  },
  {
   "cell_type": "code",
   "execution_count": 346,
   "metadata": {},
   "outputs": [],
   "source": [
    "# phi0_scalar = background_quantities['scalar']"
   ]
  },
  {
   "cell_type": "code",
   "execution_count": 347,
   "metadata": {},
   "outputs": [
    {
     "data": {
      "text/plain": [
       "array([-10.        , -10.0018383 , -10.00366826, -10.00548991,\n",
       "       -10.00730326, -10.00910834, -10.01090516, -10.01269375,\n",
       "       -10.01447411, -10.01624628, -10.01801028, -10.01976612,\n",
       "       -10.02151382, -10.02325341, -10.0249849 , -10.02670832,\n",
       "       -10.0284237 , -10.03013104, -10.03183038, -10.03352173,\n",
       "       -10.03520512, -10.03688056, -10.03854809, -10.04020773,\n",
       "       -10.04185949, -10.0435034 , -10.04513948, -10.04676776,\n",
       "       -10.04838827, -10.05000101, -10.05160602, -10.05320332,\n",
       "       -10.05479294, -10.05637489, -10.05794921, -10.05951592,\n",
       "       -10.06107503, -10.06262658, -10.06417059, -10.06570709,\n",
       "       -10.0672361 , -10.06875764, -10.07027174, -10.07177842,\n",
       "       -10.07327772, -10.07476965, -10.07625424, -10.07773151,\n",
       "       -10.0792015 , -10.08066422, -10.08211971, -10.08356798,\n",
       "       -10.08500907, -10.08644299, -10.08786978, -10.08928946,\n",
       "       -10.09070206, -10.0921076 , -10.09350611, -10.09489762,\n",
       "       -10.09628215, -10.09765972, -10.09903037, -10.10039412,\n",
       "       -10.101751  , -10.10310102, -10.10444423, -10.10578064,\n",
       "       -10.10711029, -10.10843319, -10.10974938, -10.11105887,\n",
       "       -10.11236171, -10.11365791, -10.1149475 , -10.11623051,\n",
       "       -10.11750697, -10.11877689, -10.12004031, -10.12129725,\n",
       "       -10.12254775, -10.12379182, -10.12502949, -10.1262608 ,\n",
       "       -10.12748576, -10.1287044 , -10.12991676, -10.13112285,\n",
       "       -10.1323227 , -10.13351634, -10.1347038 , -10.1358851 ,\n",
       "       -10.13706026, -10.13822933, -10.13939231, -10.14054924,\n",
       "       -10.14170015, -10.14284505, -10.14398399, -10.14511697,\n",
       "       -10.14624404, -10.14736521, -10.14848051, -10.14958997,\n",
       "       -10.15069362, -10.15179147, -10.15288356, -10.15396991,\n",
       "       -10.15505055, -10.15612551, -10.1571948 , -10.15825846,\n",
       "       -10.15931651, -10.16036898, -10.16141589, -10.16245727,\n",
       "       -10.16349314, -10.16452353, -10.16554847, -10.16656798,\n",
       "       -10.16758208, -10.1685908 , -10.16959418, -10.17059222,\n",
       "       -10.17158496, -10.17257242, -10.17355463, -10.17453161,\n",
       "       -10.17550338, -10.17646998, -10.17743143, -10.17838774,\n",
       "       -10.17933895, -10.18028508, -10.18122616, -10.18216221,\n",
       "       -10.18309325, -10.18401931, -10.18494041, -10.18585657,\n",
       "       -10.18676783, -10.1876742 , -10.18857571, -10.18947239,\n",
       "       -10.19036425, -10.19125132, -10.19213362, -10.19301119,\n",
       "       -10.19388403, -10.19475218, -10.19561565, -10.19647448,\n",
       "       -10.19732868, -10.19817828, -10.19902331, -10.19986377,\n",
       "       -10.2006997 , -10.20153113, -10.20235806, -10.20318053,\n",
       "       -10.20399856, -10.20481217, -10.20562138, -10.20642622,\n",
       "       -10.2072267 , -10.20802286, -10.2088147 , -10.20960226,\n",
       "       -10.21038556, -10.21116462, -10.21193946, -10.21271009,\n",
       "       -10.21347655, -10.21423886, -10.21499703, -10.2157511 ,\n",
       "       -10.21650107, -10.21724697, -10.21798882, -10.21872665,\n",
       "       -10.21946047, -10.2201903 , -10.22091618, -10.2216381 ,\n",
       "       -10.22235611, -10.22307021, -10.22378043, -10.2244868 ,\n",
       "       -10.22518932, -10.22588801, -10.22658291, -10.22727403,\n",
       "       -10.22796139, -10.22864501, -10.22932491, -10.23000111,\n",
       "       -10.23067362, -10.23134248, -10.23200769, -10.23266928,\n",
       "       -10.23332727, -10.23398168, -10.23463252, -10.23527981,\n",
       "       -10.23592358, -10.23656384, -10.23720062, -10.23783392,\n",
       "       -10.23846377, -10.23909019, -10.2397132 , -10.24033281,\n",
       "       -10.24094904, -10.24156191, -10.24217145, -10.24277766,\n",
       "       -10.24338056, -10.24398018, -10.24457653, -10.24516963,\n",
       "       -10.2457595 , -10.24634615, -10.2469296 , -10.24750987,\n",
       "       -10.24808698, -10.24866094, -10.24923177, -10.24979949,\n",
       "       -10.25036412, -10.25092567, -10.25148415, -10.2520396 ,\n",
       "       -10.25259201, -10.25314142, -10.25368783, -10.25423126,\n",
       "       -10.25477173, -10.25530926, -10.25584386, -10.25637554,\n",
       "       -10.25690433, -10.25743024, -10.25795328, -10.25847348,\n",
       "       -10.25899084, -10.25950538, -10.26001712, -10.26052608,\n",
       "       -10.26103227, -10.2615357 , -10.26203639, -10.26253435,\n",
       "       -10.26302961, -10.26352217, -10.26401205, -10.26449927,\n",
       "       -10.26498383, -10.26546576, -10.26594508, -10.26642178,\n",
       "       -10.26689589, -10.26736743, -10.26783641, -10.26830283,\n",
       "       -10.26876673, -10.2692281 , -10.26968697, -10.27014334,\n",
       "       -10.27059724, -10.27104868, -10.27149766, -10.27194421,\n",
       "       -10.27238834, -10.27283005, -10.27326938, -10.27370632,\n",
       "       -10.27414089, -10.2745731 , -10.27500298, -10.27543052,\n",
       "       -10.27585575, -10.27627868, -10.27669932, -10.27711768,\n",
       "       -10.27753378, -10.27794762, -10.27835923, -10.27876861,\n",
       "       -10.27917578, -10.27958075, -10.27998353, -10.28038413,\n",
       "       -10.28078257, -10.28117885, -10.281573  , -10.28196502,\n",
       "       -10.28235493, -10.28274273, -10.28312844, -10.28351207,\n",
       "       -10.28389363, -10.28427314, -10.2846506 , -10.28502603,\n",
       "       -10.28539944, -10.28577084, -10.28614024, -10.28650765,\n",
       "       -10.28687309, -10.28723656, -10.28759808, -10.28795765,\n",
       "       -10.2883153 , -10.28867102, -10.28902483, -10.28937675,\n",
       "       -10.28972677, -10.29007492, -10.29042121, -10.29076563,\n",
       "       -10.29110821, -10.29144896, -10.29178788, -10.29212499,\n",
       "       -10.29246029, -10.2927938 , -10.29312553, -10.29345548,\n",
       "       -10.29378367, -10.2941101 , -10.2944348 , -10.29475776,\n",
       "       -10.29507899, -10.29539851, -10.29571633, -10.29603246,\n",
       "       -10.2963469 , -10.29665966, -10.29697076, -10.2972802 ,\n",
       "       -10.297588  , -10.29789416, -10.29819869, -10.2985016 ,\n",
       "       -10.2988029 , -10.2991026 , -10.29940071, -10.29969724,\n",
       "       -10.2999922 , -10.30028559, -10.30057743, -10.30086772,\n",
       "       -10.30115647, -10.30144369, -10.3017294 , -10.30201359,\n",
       "       -10.30229628, -10.30257747, -10.30285718, -10.30313541,\n",
       "       -10.30341217, -10.30368748, -10.30396133, -10.30423373,\n",
       "       -10.3045047 , -10.30477424, -10.30504236, -10.30530908,\n",
       "       -10.30557438, -10.3058383 , -10.30610082, -10.30636197,\n",
       "       -10.30662174, -10.30688015, -10.3071372 , -10.30739291,\n",
       "       -10.30764727, -10.3079003 , -10.30815201, -10.30840239,\n",
       "       -10.30865147, -10.30889924, -10.30914572, -10.30939091,\n",
       "       -10.30963482, -10.30987746, -10.31011882, -10.31035893,\n",
       "       -10.31059779, -10.3108354 , -10.31107178, -10.31130692,\n",
       "       -10.31154084, -10.31177354, -10.31200504, -10.31223532,\n",
       "       -10.31246442, -10.31269232, -10.31291904, -10.31314459,\n",
       "       -10.31336896, -10.31359217, -10.31381423, -10.31403514,\n",
       "       -10.3142549 , -10.31447353, -10.31469103, -10.3149074 ,\n",
       "       -10.31512266, -10.3153368 , -10.31554984, -10.31576178,\n",
       "       -10.31597263, -10.31618239, -10.31639108, -10.31659869,\n",
       "       -10.31680523, -10.31701071, -10.31721513, -10.31741851,\n",
       "       -10.31762084, -10.31782213, -10.3180224 , -10.31822163,\n",
       "       -10.31841985, -10.31861705, -10.31881324, -10.31900843,\n",
       "       -10.31920262, -10.31939582, -10.31958803, -10.31977926,\n",
       "       -10.31996952, -10.3201588 , -10.32034713, -10.32053449,\n",
       "       -10.3207209 , -10.32090637, -10.32109089, -10.32127447,\n",
       "       -10.32145712, -10.32163885, -10.32181965, -10.32199954,\n",
       "       -10.32217852, -10.32235659, -10.32253375, -10.32271003,\n",
       "       -10.32288541, -10.32305991, -10.32323352, -10.32340626,\n",
       "       -10.32357813, -10.32374913, -10.32391928, -10.32408856,\n",
       "       -10.324257  , -10.32442458, -10.32459133, -10.32475724,\n",
       "       -10.32492231, -10.32508656, -10.32524998, -10.32541259,\n",
       "       -10.32557438, -10.32573536, -10.32589554, -10.32605492,\n",
       "       -10.3262135 , -10.32637129, -10.32652829, -10.32668451,\n",
       "       -10.32683995, -10.32699462, -10.32714852, -10.32730165,\n",
       "       -10.32745402, -10.32760564, -10.3277565 , -10.32790662,\n",
       "       -10.32805599, -10.32820462, -10.32835251, -10.32849967,\n",
       "       -10.32864611, -10.32879182, -10.32893681, -10.32908109,\n",
       "       -10.32922465, -10.32936751, -10.32950966, -10.32965112,\n",
       "       -10.32979187, -10.32993194, -10.33007132, -10.33021001,\n",
       "       -10.33034802, -10.33048536, -10.33062202, -10.33075801,\n",
       "       -10.33089334, -10.33102801, -10.33116202, -10.33129537,\n",
       "       -10.33142808, -10.33156013, -10.33169154, -10.33182232,\n",
       "       -10.33195245, -10.33208195, -10.33221083, -10.33233907,\n",
       "       -10.3324667 , -10.3325937 , -10.33272009, -10.33284587,\n",
       "       -10.33297104, -10.3330956 , -10.33321956, -10.33334293,\n",
       "       -10.33346569, -10.33358787, -10.33370945, -10.33383045,\n",
       "       -10.33395087, -10.33407071, -10.33418997, -10.33430866,\n",
       "       -10.33442678, -10.33454433, -10.33466132, -10.33477775,\n",
       "       -10.33489362, -10.33500894, -10.3351237 , -10.33523792,\n",
       "       -10.33535159, -10.33546472, -10.33557731, -10.33568937,\n",
       "       -10.33580089, -10.33591188, -10.33602235, -10.33613229,\n",
       "       -10.33624171, -10.3363506 , -10.33645899, -10.33656686,\n",
       "       -10.33667422, -10.33678107, -10.33688742, -10.33699326,\n",
       "       -10.33709861, -10.33720346, -10.33730782, -10.33741168,\n",
       "       -10.33751506, -10.33761795, -10.33772036, -10.33782229,\n",
       "       -10.33792374, -10.33802471, -10.33812521, -10.33822525,\n",
       "       -10.33832481, -10.33842391, -10.33852255, -10.33862073,\n",
       "       -10.33871845, -10.33881571, -10.33891253, -10.33900889,\n",
       "       -10.3391048 , -10.33920028, -10.3392953 , -10.33938989,\n",
       "       -10.33948404, -10.33957776, -10.33967104, -10.33976389,\n",
       "       -10.33985632, -10.33994831, -10.34003989, -10.34013104,\n",
       "       -10.34022177, -10.34031209, -10.34040199, -10.34049148,\n",
       "       -10.34058056, -10.34066923, -10.3407575 , -10.34084536,\n",
       "       -10.34093282, -10.34101988, -10.34110655, -10.34119282,\n",
       "       -10.3412787 , -10.34136418, -10.34144928, -10.341534  ,\n",
       "       -10.34161833, -10.34170227, -10.34178584, -10.34186903,\n",
       "       -10.34195184, -10.34203428, -10.34211635, -10.34219804,\n",
       "       -10.34227937, -10.34236034, -10.34244094, -10.34252117,\n",
       "       -10.34260105, -10.34268057, -10.34275973, -10.34283854,\n",
       "       -10.342917  , -10.34299511, -10.34307286, -10.34315028,\n",
       "       -10.34322734, -10.34330407, -10.34338045, -10.34345649,\n",
       "       -10.3435322 , -10.34360757, -10.34368261, -10.34375731,\n",
       "       -10.34383169, -10.34390574, -10.34397946, -10.34405285,\n",
       "       -10.34412592, -10.34419868, -10.34427111, -10.34434322,\n",
       "       -10.34441502, -10.3444865 , -10.34455767, -10.34462853,\n",
       "       -10.34469908, -10.34476932, -10.34483926, -10.34490889,\n",
       "       -10.34497822, -10.34504725, -10.34511597, -10.34518441,\n",
       "       -10.34525254, -10.34532038, -10.34538792, -10.34545518,\n",
       "       -10.34552214, -10.34558882, -10.34565521, -10.34572131,\n",
       "       -10.34578713, -10.34585267, -10.34591793, -10.3459829 ,\n",
       "       -10.3460476 , -10.34611203, -10.34617618, -10.34624005,\n",
       "       -10.34630366, -10.34636699, -10.34643006, -10.34649285,\n",
       "       -10.34655539, -10.34661765, -10.34667966, -10.3467414 ,\n",
       "       -10.34680288, -10.3468641 , -10.34692507, -10.34698578,\n",
       "       -10.34704623, -10.34710644, -10.34716639, -10.34722608,\n",
       "       -10.34728553, -10.34734474, -10.34740369, -10.3474624 ,\n",
       "       -10.34752087, -10.34757909, -10.34763707, -10.34769482,\n",
       "       -10.34775232, -10.34780959, -10.34786662, -10.34792341,\n",
       "       -10.34797998, -10.34803631, -10.3480924 , -10.34814827,\n",
       "       -10.34820391, -10.34825933, -10.34831452, -10.34836948,\n",
       "       -10.34842422, -10.34847874, -10.34853303, -10.34858711,\n",
       "       -10.34864096, -10.3486946 , -10.34874803, -10.34880124,\n",
       "       -10.34885423, -10.34890701, -10.34895958, -10.34901194,\n",
       "       -10.34906409, -10.34911604, -10.34916777, -10.3492193 ,\n",
       "       -10.34927062, -10.34932175, -10.34937266, -10.34942338,\n",
       "       -10.3494739 , -10.34952422, -10.34957434, -10.34962426,\n",
       "       -10.34967399, -10.34972352, -10.34977286, -10.349822  ,\n",
       "       -10.34987096, -10.34991972, -10.3499683 , -10.35001668,\n",
       "       -10.35006488, -10.35011289, -10.35016072, -10.35020837,\n",
       "       -10.35025583, -10.3503031 , -10.3503502 , -10.35039712,\n",
       "       -10.35044386, -10.35049042, -10.3505368 , -10.35058301,\n",
       "       -10.35062904, -10.3506749 , -10.35072058, -10.35076609,\n",
       "       -10.35081144, -10.35085661, -10.35090161, -10.35094644,\n",
       "       -10.35099111, -10.35103561, -10.35107995, -10.35112412,\n",
       "       -10.35116813, -10.35121197, -10.35125566, -10.35129918,\n",
       "       -10.35134255, -10.35138575, -10.3514288 , -10.35147169,\n",
       "       -10.35151443, -10.35155701, -10.35159943, -10.35164171,\n",
       "       -10.35168383, -10.3517258 , -10.35176762, -10.35180929,\n",
       "       -10.35185081, -10.35189218, -10.35193341, -10.35197449,\n",
       "       -10.35201542, -10.35205622, -10.35209686, -10.35213737,\n",
       "       -10.35217773, -10.35221796, -10.35225804, -10.35229799,\n",
       "       -10.35233779, -10.35237746, -10.352417  , -10.35245639,\n",
       "       -10.35249566, -10.35253479, -10.35257378, -10.35261265,\n",
       "       -10.35265138, -10.35268998, -10.35272846, -10.3527668 ,\n",
       "       -10.35280502, -10.35284311, -10.35288107, -10.35291891,\n",
       "       -10.35295662, -10.35299421, -10.35303168, -10.35306902,\n",
       "       -10.35310625, -10.35314335, -10.35318033, -10.3532172 ,\n",
       "       -10.35325394, -10.35329057, -10.35332709, -10.35336348,\n",
       "       -10.35339977, -10.35343593, -10.35347199, -10.35350793,\n",
       "       -10.35354376, -10.35357949, -10.3536151 , -10.3536506 ,\n",
       "       -10.35368599, -10.35372128, -10.35375646, -10.35379153,\n",
       "       -10.3538265 , -10.35386136, -10.35389613, -10.35393078,\n",
       "       -10.35396534, -10.3539998 , -10.35403415, -10.35406841,\n",
       "       -10.35410256, -10.35413662, -10.35417059, -10.35420445,\n",
       "       -10.35423822, -10.3542719 , -10.35430548, -10.35433897,\n",
       "       -10.35437237, -10.35440567, -10.35443889, -10.35447201,\n",
       "       -10.35450505, -10.354538  , -10.35457086, -10.35460363,\n",
       "       -10.35463632, -10.35466892, -10.35470144, -10.35473388,\n",
       "       -10.35476624, -10.35479851, -10.3548307 , -10.35486281,\n",
       "       -10.35489485, -10.3549268 , -10.35495868, -10.35499048,\n",
       "       -10.35502221, -10.35505386, -10.35508544, -10.35511694,\n",
       "       -10.35514837, -10.35517974, -10.35521103, -10.35524225,\n",
       "       -10.3552734 , -10.35530449, -10.3553355 , -10.35536646,\n",
       "       -10.35539734, -10.35542817, -10.35545893, -10.35548963,\n",
       "       -10.35552026, -10.35555084, -10.35558136, -10.35561182,\n",
       "       -10.35564222, -10.35567256, -10.35570285, -10.35573309,\n",
       "       -10.35576327, -10.3557934 , -10.35582348, -10.35585351,\n",
       "       -10.35588349, -10.35591342, -10.3559433 , -10.35597314,\n",
       "       -10.35600293, -10.35603268, -10.35606239, -10.35609205,\n",
       "       -10.35612168, -10.35615126, -10.35618081, -10.35621032,\n",
       "       -10.35623979, -10.35626923, -10.35629864, -10.35632802,\n",
       "       -10.35635736, -10.35638668, -10.35641596, -10.35644523,\n",
       "       -10.35647446, -10.35650367, -10.35653286, -10.35656203,\n",
       "       -10.35659118, -10.35662032, -10.35664943, -10.35667853,\n",
       "       -10.35670762, -10.3567367 , -10.35676576, -10.35679482,\n",
       "       -10.35682387, -10.35685292, -10.35688196, -10.35691101,\n",
       "       -10.35694005, -10.3569691 , -10.35699815, -10.35702721,\n",
       "       -10.35705628, -10.35708536, -10.35711446, -10.35714357,\n",
       "       -10.35717269, -10.35720184, -10.35723101, -10.35726021,\n",
       "       -10.35728944, -10.35731869, -10.35734798, -10.35737731,\n",
       "       -10.35740668, -10.35743609, -10.35746555, -10.35749505,\n",
       "       -10.35752461, -10.35755423, -10.3575839 , -10.35761364,\n",
       "       -10.35764345, -10.35767333, -10.35770328, -10.35773332,\n",
       "       -10.35776344, -10.35779365, -10.35782396, -10.35785437,\n",
       "       -10.35788489, -10.35791551, -10.35794626, -10.35797713,\n",
       "       -10.35800813, -10.35803927, -10.35807056, -10.358102  ,\n",
       "       -10.35813361, -10.35816538, -10.35819734, -10.35822948,\n",
       "       -10.35826183, -10.35829439, -10.35832717, -10.35836019,\n",
       "       -10.35839345, -10.35842699, -10.3584608 , -10.35849491,\n",
       "       -10.35852933, -10.35856409, -10.3585992 , -10.3586347 ,\n",
       "       -10.35867059, -10.35870692, -10.3587437 , -10.35878098,\n",
       "       -10.35881879, -10.35885717, -10.35889616, -10.35893582,\n",
       "       -10.35897619, -10.35901736, -10.35905938, -10.35910234,\n",
       "       -10.35914635, -10.3591915 , -10.35923794, -10.35928582,\n",
       "       -10.35933533, -10.35938671, -10.35944025, -10.35949633])"
      ]
     },
     "execution_count": 347,
     "metadata": {},
     "output_type": "execute_result"
    }
   ],
   "source": [
    "phi0_scalar-background_quantities['scalar']"
   ]
  },
  {
   "cell_type": "code",
   "execution_count": 336,
   "metadata": {},
   "outputs": [
    {
     "data": {
      "text/plain": [
       "[<matplotlib.lines.Line2D at 0x7f7c4219fb20>]"
      ]
     },
     "execution_count": 336,
     "metadata": {},
     "output_type": "execute_result"
    },
    {
     "data": {
      "image/png": "[encoded data removed]",
      "text/plain": [
       "<Figure size 640x480 with 1 Axes>"
      ]
     },
     "metadata": {},
     "output_type": "display_data"
    }
   ],
   "source": [
    "plt.loglog(background_quantities['a'],background_quantities['Hubble'])"
   ]
  },
  {
   "cell_type": "code",
   "execution_count": 337,
   "metadata": {},
   "outputs": [
    {
     "data": {
      "text/plain": [
       "[<matplotlib.lines.Line2D at 0x7f7c42a49130>]"
      ]
     },
     "execution_count": 337,
     "metadata": {},
     "output_type": "execute_result"
    },
    {
     "data": {
      "image/png": "[encoded data removed]",
      "text/plain": [
       "<Figure size 640x480 with 1 Axes>"
      ]
     },
     "metadata": {},
     "output_type": "display_data"
    }
   ],
   "source": [
    "plt.loglog(background_quantities['a'],background_quantities['scalar'])"
   ]
  },
  {
   "cell_type": "code",
   "execution_count": 338,
   "metadata": {},
   "outputs": [
    {
     "data": {
      "text/plain": [
       "array([1.        , 1.00000001, 1.        , 1.        , 1.        ,\n",
       "       1.        , 1.        , 1.        , 1.        , 1.        ,\n",
       "       1.        , 1.        , 1.        , 1.        , 1.        ,\n",
       "       1.        , 1.        , 1.        , 1.        , 1.        ,\n",
       "       1.        , 1.        , 1.        , 1.        , 1.        ,\n",
       "       1.        , 1.        , 1.        , 0.99999999, 0.99999999,\n",
       "       0.99999999, 0.99999999, 0.99999999, 0.99999999, 0.99999999,\n",
       "       0.99999999, 0.99999999, 0.99999999, 0.99999999, 0.99999999,\n",
       "       0.99999999, 0.99999999, 0.99999999, 0.99999999, 0.99999999,\n",
       "       0.99999999, 0.99999999, 0.99999999, 0.99999999, 0.99999999,\n",
       "       0.99999999, 0.99999999, 0.99999999, 0.99999999, 0.99999999,\n",
       "       0.99999999, 0.99999999, 0.99999998, 0.99999998, 0.99999998,\n",
       "       0.99999998, 0.99999998, 0.99999998, 0.99999998, 0.99999999,\n",
       "       0.99999999, 0.99999999, 0.99999999, 1.        , 1.        ,\n",
       "       1.        , 1.        , 1.        , 1.        , 1.        ,\n",
       "       1.        , 1.        , 1.        , 1.        , 1.        ,\n",
       "       1.        , 1.        , 1.        , 1.        , 1.        ,\n",
       "       1.        , 1.        , 1.        , 1.        , 1.        ,\n",
       "       1.        , 1.        , 1.        , 1.        , 1.        ,\n",
       "       1.        , 1.        , 1.        , 1.        , 1.        ,\n",
       "       1.        , 1.        , 1.        , 1.        , 1.        ,\n",
       "       1.        , 1.        , 1.        , 1.        , 1.        ,\n",
       "       1.        , 1.        , 1.        , 1.        , 1.        ,\n",
       "       1.        , 1.        , 1.        , 1.        , 1.        ,\n",
       "       1.        , 1.        , 1.00000001, 1.00000001, 1.00000001,\n",
       "       1.00000001, 1.00000001, 1.00000001, 1.00000001, 1.00000001,\n",
       "       1.00000001, 1.00000001, 1.00000001, 1.00000001, 1.00000001,\n",
       "       1.00000001, 1.00000001, 1.00000001, 1.00000001, 1.00000001,\n",
       "       1.00000001, 1.00000001, 1.00000001, 1.00000001, 1.00000002,\n",
       "       1.00000002, 1.00000002, 1.00000002, 1.00000002, 1.00000002,\n",
       "       1.00000002, 1.00000002, 1.00000002, 1.00000002, 1.00000002,\n",
       "       1.00000002, 1.00000002, 1.00000002, 1.00000002, 1.00000002,\n",
       "       1.00000002, 1.00000002, 1.00000002, 1.00000002, 1.00000002,\n",
       "       1.00000002, 1.00000002, 1.00000002, 1.00000002, 1.00000002,\n",
       "       1.00000002, 1.00000002, 1.00000003, 1.00000003, 1.00000003,\n",
       "       1.00000003, 1.00000003, 1.00000003, 1.00000003, 1.00000003,\n",
       "       1.00000003, 1.00000003, 1.00000003, 1.00000003, 1.00000003,\n",
       "       1.00000003, 1.00000003, 1.00000003, 1.00000003, 1.00000003,\n",
       "       1.00000003, 1.00000003, 1.00000003, 1.00000003, 1.00000003,\n",
       "       1.00000003, 1.00000003, 1.00000003, 1.00000003, 1.00000004,\n",
       "       1.00000004, 1.00000004, 1.00000004, 1.00000004, 1.00000004,\n",
       "       1.00000004, 1.00000004, 1.00000004, 1.00000004, 1.00000004,\n",
       "       1.00000004, 1.00000004, 1.00000004, 1.00000004, 1.00000004,\n",
       "       1.00000004, 1.00000004, 1.00000004, 1.00000004, 1.00000004,\n",
       "       1.00000004, 1.00000004, 1.00000005, 1.00000005, 1.00000005,\n",
       "       1.00000005, 1.00000005, 1.00000005, 1.00000005, 1.00000005,\n",
       "       1.00000005, 1.00000005, 1.00000005, 1.00000005, 1.00000005,\n",
       "       1.00000005, 1.00000005, 1.00000005, 1.00000005, 1.00000005,\n",
       "       1.00000005, 1.00000005, 1.00000005, 1.00000005, 1.00000005,\n",
       "       1.00000005, 1.00000005, 1.00000005, 1.00000006, 1.00000006,\n",
       "       1.00000006, 1.00000006, 1.00000006, 1.00000006, 1.00000006,\n",
       "       1.00000006, 1.00000006, 1.00000006, 1.00000006, 1.00000006,\n",
       "       1.00000006, 1.00000006, 1.00000006, 1.00000006, 1.00000006,\n",
       "       1.00000006, 1.00000006, 1.00000006, 1.00000006, 1.00000006,\n",
       "       1.00000007, 1.00000007, 1.00000007, 1.00000007, 1.00000007,\n",
       "       1.00000007, 1.00000007, 1.00000007, 1.00000007, 1.00000007,\n",
       "       1.00000007, 1.00000007, 1.00000007, 1.00000007, 1.00000007,\n",
       "       1.00000007, 1.00000007, 1.00000007, 1.00000007, 1.00000007,\n",
       "       1.00000007, 1.00000007, 1.00000007, 1.00000007, 1.00000007,\n",
       "       1.00000007, 1.00000007, 1.00000008, 1.00000008, 1.00000008,\n",
       "       1.00000008, 1.00000008, 1.00000008, 1.00000008, 1.00000008,\n",
       "       1.00000008, 1.00000008, 1.00000008, 1.00000008, 1.00000008,\n",
       "       1.00000008, 1.00000008, 1.00000008, 1.00000008, 1.00000008,\n",
       "       1.00000008, 1.00000008, 1.00000008, 1.00000009, 1.00000009,\n",
       "       1.00000009, 1.00000009, 1.00000009, 1.00000009, 1.00000009,\n",
       "       1.00000009, 1.00000009, 1.00000009, 1.00000009, 1.00000009,\n",
       "       1.00000009, 1.00000009, 1.00000009, 1.00000009, 1.00000009,\n",
       "       1.00000009, 1.00000009, 1.00000009, 1.00000009, 1.00000009,\n",
       "       1.00000009, 1.00000009, 1.00000009, 1.00000009, 1.00000009,\n",
       "       1.00000009, 1.0000001 , 1.0000001 , 1.0000001 , 1.0000001 ,\n",
       "       1.0000001 , 1.0000001 , 1.0000001 , 1.0000001 , 1.0000001 ,\n",
       "       1.0000001 , 1.0000001 , 1.0000001 , 1.0000001 , 1.0000001 ,\n",
       "       1.0000001 , 1.0000001 , 1.0000001 , 1.0000001 , 1.0000001 ,\n",
       "       1.0000001 , 1.0000001 , 1.0000001 , 1.0000001 , 1.0000001 ,\n",
       "       1.0000001 , 1.0000001 , 1.0000001 , 1.00000011, 1.00000011,\n",
       "       1.00000011, 1.00000011, 1.00000011, 1.00000011, 1.00000011,\n",
       "       1.00000011, 1.00000011, 1.00000011, 1.00000011, 1.00000011,\n",
       "       1.00000011, 1.00000011, 1.00000011, 1.00000011, 1.00000011,\n",
       "       1.00000011, 1.00000011, 1.00000011, 1.00000011, 1.00000011,\n",
       "       1.00000011, 1.00000012, 1.00000012, 1.00000011, 1.00000011,\n",
       "       1.00000011, 1.00000011, 1.00000012, 1.00000012, 1.00000012,\n",
       "       1.00000012, 1.00000012, 1.00000012, 1.00000012, 1.00000012,\n",
       "       1.00000012, 1.00000012, 1.00000012, 1.00000012, 1.00000012,\n",
       "       1.00000012, 1.00000012, 1.00000012, 1.00000012, 1.00000012,\n",
       "       1.00000012, 1.00000012, 1.00000012, 1.00000012, 1.00000012,\n",
       "       1.00000013, 1.00000013, 1.00000012, 1.00000012, 1.00000012,\n",
       "       1.00000012, 1.00000013, 1.00000013, 1.00000013, 1.00000013,\n",
       "       1.00000013, 1.00000013, 1.00000013, 1.00000013, 1.00000013,\n",
       "       1.00000013, 1.00000013, 1.00000013, 1.00000013, 1.00000013,\n",
       "       1.00000013, 1.00000013, 1.00000013, 1.00000013, 1.00000013,\n",
       "       1.00000013, 1.00000013, 1.00000013, 1.00000013, 1.00000013,\n",
       "       1.00000013, 1.00000013, 1.00000013, 1.00000013, 1.00000013,\n",
       "       1.00000013, 1.00000014, 1.00000014, 1.00000014, 1.00000014,\n",
       "       1.00000014, 1.00000014, 1.00000014, 1.00000014, 1.00000014,\n",
       "       1.00000014, 1.00000014, 1.00000014, 1.00000014, 1.00000014,\n",
       "       1.00000014, 1.00000014, 1.00000014, 1.00000014, 1.00000014,\n",
       "       1.00000014, 1.00000014, 1.00000014, 1.00000014, 1.00000014,\n",
       "       1.00000014, 1.00000014, 1.00000014, 1.00000014, 1.00000014,\n",
       "       1.00000014, 1.00000015, 1.00000015, 1.00000015, 1.00000015,\n",
       "       1.00000015, 1.00000014, 1.00000015, 1.00000015, 1.00000015,\n",
       "       1.00000015, 1.00000015, 1.00000015, 1.00000015, 1.00000015,\n",
       "       1.00000015, 1.00000015, 1.00000015, 1.00000015, 1.00000015,\n",
       "       1.00000015, 1.00000015, 1.00000015, 1.00000015, 1.00000015,\n",
       "       1.00000015, 1.00000015, 1.00000015, 1.00000015, 1.00000015,\n",
       "       1.00000015, 1.00000015, 1.00000015, 1.00000015, 1.00000015,\n",
       "       1.00000015, 1.00000015, 1.00000015, 1.00000015, 1.00000016,\n",
       "       1.00000016, 1.00000016, 1.00000016, 1.00000016, 1.00000016,\n",
       "       1.00000016, 1.00000016, 1.00000016, 1.00000016, 1.00000016,\n",
       "       1.00000016, 1.00000016, 1.00000016, 1.00000016, 1.00000016,\n",
       "       1.00000016, 1.00000016, 1.00000016, 1.00000016, 1.00000016,\n",
       "       1.00000016, 1.00000016, 1.00000016, 1.00000016, 1.00000016,\n",
       "       1.00000016, 1.00000016, 1.00000016, 1.00000016, 1.00000016,\n",
       "       1.00000017, 1.00000016, 1.00000016, 1.00000016, 1.00000016,\n",
       "       1.00000016, 1.00000016, 1.00000017, 1.00000017, 1.00000017,\n",
       "       1.00000017, 1.00000017, 1.00000017, 1.00000016, 1.00000017,\n",
       "       1.00000017, 1.00000017, 1.00000017, 1.00000017, 1.00000017,\n",
       "       1.00000017, 1.00000017, 1.00000017, 1.00000017, 1.00000017,\n",
       "       1.00000017, 1.00000017, 1.00000017, 1.00000017, 1.00000017,\n",
       "       1.00000017, 1.00000017, 1.00000017, 1.00000017, 1.00000017,\n",
       "       1.00000017, 1.00000017, 1.00000017, 1.00000017, 1.00000017,\n",
       "       1.00000017, 1.00000017, 1.00000017, 1.00000017, 1.00000017,\n",
       "       1.00000017, 1.00000017, 1.00000018, 1.00000018, 1.00000018,\n",
       "       1.00000017, 1.00000017, 1.00000017, 1.00000017, 1.00000017,\n",
       "       1.00000018, 1.00000018, 1.00000018, 1.00000018, 1.00000018,\n",
       "       1.00000018, 1.00000017, 1.00000017, 1.00000018, 1.00000018,\n",
       "       1.00000018, 1.00000018, 1.00000018, 1.00000018, 1.00000018,\n",
       "       1.00000018, 1.00000018, 1.00000018, 1.00000018, 1.00000018,\n",
       "       1.00000018, 1.00000018, 1.00000018, 1.00000018, 1.00000018,\n",
       "       1.00000018, 1.00000018, 1.00000018, 1.00000018, 1.00000018,\n",
       "       1.00000018, 1.00000018, 1.00000018, 1.00000018, 1.00000018,\n",
       "       1.00000018, 1.00000018, 1.00000018, 1.00000018, 1.00000018,\n",
       "       1.00000018, 1.00000018, 1.00000018, 1.00000018, 1.00000018,\n",
       "       1.00000018, 1.00000018, 1.00000018, 1.00000018, 1.00000018,\n",
       "       1.00000019, 1.00000019, 1.00000019, 1.00000018, 1.00000018,\n",
       "       1.00000018, 1.00000018, 1.00000018, 1.00000018, 1.00000019,\n",
       "       1.00000019, 1.00000019, 1.00000019, 1.00000018, 1.00000018,\n",
       "       1.00000018, 1.00000018, 1.00000019, 1.00000019, 1.00000019,\n",
       "       1.00000019, 1.00000019, 1.00000019, 1.00000019, 1.00000019,\n",
       "       1.00000019, 1.00000019, 1.00000019, 1.00000019, 1.00000019,\n",
       "       1.00000019, 1.00000019, 1.00000019, 1.00000019, 1.00000019,\n",
       "       1.00000019, 1.00000019, 1.00000019, 1.00000019, 1.00000019,\n",
       "       1.00000019, 1.00000019, 1.00000019, 1.00000019, 1.00000019,\n",
       "       1.00000019, 1.00000019, 1.00000019, 1.00000019, 1.00000019,\n",
       "       1.00000019, 1.00000019, 1.00000019, 1.00000019, 1.00000019,\n",
       "       1.00000019, 1.00000019, 1.00000019, 1.00000019, 1.00000019,\n",
       "       1.00000019, 1.00000019, 1.00000019, 1.00000019, 1.00000019,\n",
       "       1.00000019, 1.00000019, 1.00000019, 1.00000019, 1.00000019,\n",
       "       1.00000019, 1.00000019, 1.00000019, 1.00000019, 1.00000019,\n",
       "       1.00000019, 1.00000019, 1.00000019, 1.00000019, 1.00000019,\n",
       "       1.00000019, 1.00000019, 1.00000019, 1.00000019, 1.00000019,\n",
       "       1.00000019, 1.00000019, 1.0000002 , 1.0000002 , 1.00000019,\n",
       "       1.00000019, 1.00000019, 1.00000019, 1.00000019, 1.00000019,\n",
       "       1.00000019, 1.0000002 , 1.0000002 , 1.0000002 , 1.00000019,\n",
       "       1.00000019, 1.00000019, 1.00000019, 1.00000019, 1.00000019,\n",
       "       1.0000002 , 1.0000002 , 1.0000002 , 1.0000002 , 1.00000019,\n",
       "       1.00000019, 1.00000019, 1.00000019, 1.00000019, 1.0000002 ,\n",
       "       1.0000002 , 1.0000002 , 1.0000002 , 1.0000002 , 1.00000019,\n",
       "       1.00000019, 1.00000019, 1.00000019, 1.0000002 , 1.0000002 ,\n",
       "       1.0000002 , 1.0000002 , 1.0000002 , 1.0000002 , 1.0000002 ,\n",
       "       1.00000019, 1.00000019, 1.0000002 , 1.0000002 , 1.0000002 ,\n",
       "       1.0000002 , 1.0000002 , 1.0000002 , 1.0000002 , 1.0000002 ,\n",
       "       1.00000019, 1.0000002 , 1.0000002 , 1.0000002 , 1.0000002 ,\n",
       "       1.0000002 , 1.0000002 , 1.0000002 , 1.0000002 , 1.0000002 ,\n",
       "       1.0000002 , 1.0000002 , 1.0000002 , 1.0000002 , 1.0000002 ,\n",
       "       1.0000002 , 1.0000002 , 1.0000002 , 1.0000002 , 1.0000002 ,\n",
       "       1.0000002 , 1.0000002 , 1.0000002 , 1.0000002 , 1.0000002 ,\n",
       "       1.0000002 , 1.0000002 , 1.0000002 , 1.0000002 , 1.0000002 ,\n",
       "       1.0000002 , 1.0000002 , 1.0000002 , 1.0000002 , 1.0000002 ,\n",
       "       1.0000002 , 1.0000002 , 1.0000002 , 1.0000002 , 1.0000002 ,\n",
       "       1.0000002 , 1.0000002 , 1.0000002 , 1.0000002 , 1.0000002 ,\n",
       "       1.0000002 , 1.0000002 , 1.0000002 , 1.0000002 , 1.0000002 ,\n",
       "       1.0000002 , 1.0000002 , 1.0000002 , 1.0000002 , 1.0000002 ,\n",
       "       1.0000002 , 1.0000002 , 1.0000002 , 1.0000002 , 1.0000002 ,\n",
       "       1.0000002 , 1.0000002 , 1.0000002 , 1.0000002 , 1.0000002 ,\n",
       "       1.0000002 , 1.0000002 , 1.0000002 , 1.0000002 , 1.0000002 ,\n",
       "       1.0000002 , 1.0000002 , 1.0000002 , 1.0000002 , 1.0000002 ,\n",
       "       1.0000002 , 1.0000002 , 1.0000002 , 1.0000002 , 1.0000002 ,\n",
       "       1.0000002 , 1.0000002 , 1.0000002 , 1.0000002 , 1.0000002 ,\n",
       "       1.0000002 , 1.0000002 , 1.0000002 , 1.0000002 , 1.0000002 ,\n",
       "       1.0000002 , 1.0000002 , 1.0000002 , 1.0000002 , 1.0000002 ,\n",
       "       1.0000002 , 1.0000002 , 1.0000002 , 1.0000002 , 1.0000002 ,\n",
       "       1.0000002 , 1.0000002 , 1.0000002 , 1.0000002 , 1.0000002 ,\n",
       "       1.0000002 , 1.0000002 , 1.0000002 , 1.0000002 , 1.0000002 ,\n",
       "       1.0000002 , 1.0000002 , 1.0000002 , 1.0000002 , 1.0000002 ,\n",
       "       1.0000002 , 1.0000002 , 1.0000002 , 1.0000002 , 1.0000002 ,\n",
       "       1.0000002 , 1.0000002 , 1.0000002 , 1.0000002 , 1.0000002 ,\n",
       "       1.0000002 , 1.0000002 , 1.0000002 , 1.0000002 , 1.0000002 ,\n",
       "       1.0000002 , 1.0000002 , 1.0000002 , 1.0000002 , 1.0000002 ,\n",
       "       1.0000002 , 1.0000002 , 1.0000002 , 1.0000002 , 1.0000002 ,\n",
       "       1.0000002 , 1.0000002 , 1.0000002 , 1.0000002 , 1.0000002 ,\n",
       "       1.0000002 , 1.0000002 , 1.0000002 , 1.0000002 , 1.0000002 ,\n",
       "       1.0000002 , 1.0000002 , 1.0000002 , 1.0000002 , 1.0000002 ,\n",
       "       1.0000002 , 1.0000002 , 1.0000002 , 1.0000002 , 1.0000002 ,\n",
       "       1.0000002 , 1.0000002 , 1.0000002 , 1.0000002 , 1.0000002 ,\n",
       "       1.0000002 , 1.0000002 , 1.0000002 , 1.0000002 , 1.0000002 ,\n",
       "       1.0000002 , 1.0000002 , 1.0000002 , 1.0000002 , 1.0000002 ,\n",
       "       1.0000002 , 1.0000002 , 1.0000002 , 1.0000002 , 1.0000002 ,\n",
       "       1.0000002 , 1.0000002 , 1.0000002 , 1.0000002 , 1.0000002 ,\n",
       "       1.0000002 , 1.0000002 , 1.0000002 , 1.0000002 , 1.0000002 ,\n",
       "       1.0000002 , 1.0000002 , 1.0000002 , 1.0000002 , 1.0000002 ])"
      ]
     },
     "execution_count": 338,
     "metadata": {},
     "output_type": "execute_result"
    }
   ],
   "source": [
    "background_quantities['omega_phi']+background_quantities['omega_m']+background_quantities['omega_r']+background_quantities['omega_l']"
   ]
  },
  {
   "cell_type": "code",
   "execution_count": null,
   "metadata": {},
   "outputs": [],
   "source": []
  }
 ],
 "metadata": {
  "kernelspec": {
   "display_name": "HiCOLA",
   "language": "python",
   "name": "python3"
  },
  "language_info": {
   "codemirror_mode": {
    "name": "ipython",
    "version": 3
   },
   "file_extension": ".py",
   "mimetype": "text/x-python",
   "name": "python",
   "nbconvert_exporter": "python",
   "pygments_lexer": "ipython3",
   "version": "3.8.2"
  },
  "orig_nbformat": 4
 },
 "nbformat": 4,
 "nbformat_minor": 2
}
